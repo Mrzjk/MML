{
 "cells": [
  {
   "cell_type": "code",
   "execution_count": 1,
   "id": "8668d170-bcea-4b91-afca-9fe11fa11363",
   "metadata": {},
   "outputs": [
    {
     "name": "stdout",
     "output_type": "stream",
     "text": [
      "coco_2014_caption目录已存在,跳过数据处理步骤\n"
     ]
    }
   ],
   "source": [
    "# 导入所需的库\n",
    "from modelscope.msdatasets import MsDataset\n",
    "import os\n",
    "import pandas as pd\n",
    "\n",
    "MAX_DATA_NUMBER = 500\n",
    "\n",
    "# 检查目录是否已存在\n",
    "if not os.path.exists('coco_2014_caption'):\n",
    "    # 从modelscope下载COCO 2014图像描述数据集\n",
    "    ds =  MsDataset.load('modelscope/coco_2014_caption', subset_name='coco_2014_caption', split='train')\n",
    "    print(len(ds))\n",
    "    # 设置处理的图片数量上限\n",
    "    total = min(MAX_DATA_NUMBER, len(ds))\n",
    "\n",
    "    # 创建保存图片的目录\n",
    "    os.makedirs('coco_2014_caption', exist_ok=True)\n",
    "\n",
    "    # 初始化存储图片路径和描述的列表\n",
    "    image_paths = []\n",
    "    captions = []\n",
    "\n",
    "    for i in range(total):\n",
    "        # 获取每个样本的信息\n",
    "        print(ds[i])\n",
    "        break\n",
    "        item = ds[i]\n",
    "        image_id = item['image_id']\n",
    "        caption = item['caption']  # 图片描述 \n",
    "        image = item['image']\n",
    "\n",
    "        # 保存图片并记录路径\n",
    "        image_path = os.path.abspath(f'coco_2014_caption/{image_id}.jpg')\n",
    "        image.save(image_path)\n",
    "\n",
    "        # 将路径和描述添加到列表中\n",
    "        image_paths.append(image_path)   # 图片路径与图片描述 一一对应  \n",
    "        captions.append(caption)\n",
    "\n",
    "        # 每处理50张图片打印一次进度\n",
    "        if (i + 1) % 50 == 0:\n",
    "            print(f'Processing {i+1}/{total} images ({(i+1)/total*100:.1f}%)')\n",
    "\n",
    "    # 将图片路径和描述保存为CSV文件\n",
    "    df = pd.DataFrame({\n",
    "        'image_path': image_paths,\n",
    "        'caption': captions\n",
    "    })\n",
    "\n",
    "    # 将数据保存为CSV文件\n",
    "    df.to_csv('./coco-2024-dataset.csv', index=False)\n",
    "\n",
    "    print(f'数据处理完成，共处理了{total}张图片')\n",
    "\n",
    "else:\n",
    "    print('coco_2014_caption目录已存在,跳过数据处理步骤')"
   ]
  },
  {
   "cell_type": "code",
   "execution_count": 2,
   "id": "d951f299-6ca7-4e6d-bcd1-7037ff4f8047",
   "metadata": {
    "scrolled": true
   },
   "outputs": [],
   "source": [
    "import pandas as pd\n",
    "import json\n",
    "\n",
    "# 载入CSV文件\n",
    "df = pd.read_csv('./coco-2024-dataset.csv')\n",
    "data = []\n",
    "\n",
    "# 添加对话数据\n",
    "for i in range(len(df)):\n",
    "    data.append({\n",
    "        \"id\": f\"identity_{i+1}\",\n",
    "        \"conversations\": [\n",
    "            {\n",
    "                \"from\": \"user\",\n",
    "                \"value\": f\"COCO Yes: <|vision_start|>{df.iloc[i]['image_path']}<|vision_end|>\"\n",
    "            },\n",
    "            {\n",
    "                \"from\": \"assistant\", \n",
    "                \"value\": df.iloc[i]['caption']\n",
    "            }\n",
    "        ]\n",
    "    })\n",
    "\n",
    "# 保存为Json\n",
    "with open('data_vl.json', 'w', encoding='utf-8') as f:\n",
    "    json.dump(data, f, ensure_ascii=False, indent=2)"
   ]
  },
  {
   "cell_type": "code",
   "execution_count": 3,
   "id": "caa423cb-a2b5-4383-b5bd-a031edf554a1",
   "metadata": {},
   "outputs": [],
   "source": [
    "import json\n",
    "with open('./data_vl.json','r',encoding='utf-8') as f:\n",
    "      data = json.loads(f.read())"
   ]
  },
  {
   "cell_type": "code",
   "execution_count": 4,
   "id": "aee4c29d-f56a-402e-9d74-c5148cdf7a47",
   "metadata": {},
   "outputs": [
    {
     "data": {
      "text/plain": [
       "{'id': 'identity_1',\n",
       " 'conversations': [{'from': 'user',\n",
       "   'value': 'COCO Yes: <|vision_start|>/root/autodl-tmp/coco_2014_caption/199134.jpg<|vision_end|>'},\n",
       "  {'from': 'assistant',\n",
       "   'value': 'a couple of men standing in front of a fan on a stage.'}]}"
      ]
     },
     "execution_count": 4,
     "metadata": {},
     "output_type": "execute_result"
    }
   ],
   "source": [
    "data[0]"
   ]
  },
  {
   "cell_type": "code",
   "execution_count": 5,
   "id": "2925db3c-f1e5-45cc-8bd3-7f33784fd3fd",
   "metadata": {},
   "outputs": [
    {
     "name": "stderr",
     "output_type": "stream",
     "text": [
      "2025-06-17 16:36:46,142 - modelscope - WARNING - Using branch: master as version is unstable, use with caution\n",
      "The argument `trust_remote_code` is to be used with Auto classes. It has no effect here and is ignored.\n",
      "`Qwen2VLRotaryEmbedding` can now be fully parameterized by passing the model config through the `config` argument. All other arguments will be removed in v4.46\n"
     ]
    },
    {
     "data": {
      "application/vnd.jupyter.widget-view+json": {
       "model_id": "d618749ffd2141f39cffaee7beca8688",
       "version_major": 2,
       "version_minor": 0
      },
      "text/plain": [
       "Loading checkpoint shards:   0%|          | 0/2 [00:00<?, ?it/s]"
      ]
     },
     "metadata": {},
     "output_type": "display_data"
    }
   ],
   "source": [
    "from modelscope import snapshot_download, AutoTokenizer\n",
    "from transformers import TrainingArguments, Trainer, DataCollatorForSeq2Seq, Qwen2VLForConditionalGeneration, AutoProcessor\n",
    "import torch\n",
    "\n",
    "# 在modelscope上下载Qwen2-VL模型到本地目录下\n",
    "model_dir = snapshot_download(\"Qwen/Qwen2-VL-2B-Instruct\", cache_dir=\"./\", revision=\"master\")\n",
    "\n",
    "# 使用Transformers加载模型权重\n",
    "tokenizer = AutoTokenizer.from_pretrained(\"./Qwen/Qwen2-VL-2B-Instruct/\", use_fast=False, trust_remote_code=True)\n",
    "# 特别的，Qwen2-VL-2B-Instruct模型需要使用Qwen2VLForConditionalGeneration来加载\n",
    "model = Qwen2VLForConditionalGeneration.from_pretrained(\"./Qwen/Qwen2-VL-2B-Instruct/\", device_map=\"auto\", torch_dtype=torch.bfloat16, trust_remote_code=True,)\n",
    "model.enable_input_require_grads()  # 开启梯度检查点时，要执行该方法"
   ]
  },
  {
   "cell_type": "code",
   "execution_count": 12,
   "id": "3f9ef44d-53b1-479e-be1f-978e757b811d",
   "metadata": {},
   "outputs": [
    {
     "name": "stderr",
     "output_type": "stream",
     "text": [
      "The argument `trust_remote_code` is to be used with Auto classes. It has no effect here and is ignored.\n"
     ]
    },
    {
     "data": {
      "application/vnd.jupyter.widget-view+json": {
       "model_id": "cf8f86b816a142abbb17d58e2d9c2fc3",
       "version_major": 2,
       "version_minor": 0
      },
      "text/plain": [
       "Loading checkpoint shards:   0%|          | 0/2 [00:00<?, ?it/s]"
      ]
     },
     "metadata": {},
     "output_type": "display_data"
    }
   ],
   "source": [
    "import torch\n",
    "from datasets import Dataset\n",
    "from modelscope import snapshot_download, AutoTokenizer\n",
    "from qwen_vl_utils import process_vision_info\n",
    "from peft import LoraConfig, TaskType, get_peft_model, PeftModel\n",
    "from transformers import (\n",
    "    TrainingArguments,\n",
    "    Trainer,\n",
    "    DataCollatorForSeq2Seq,\n",
    "    Qwen2VLForConditionalGeneration,\n",
    "    AutoProcessor,\n",
    ")\n",
    "import json\n",
    "processor = AutoProcessor.from_pretrained(\"./Qwen/Qwen2-VL-2B-Instruct\")\n",
    "def process_func(example):\n",
    "    \"\"\"\n",
    "    将数据集进行预处理\n",
    "    \"\"\"\n",
    "    MAX_LENGTH = 8192\n",
    "    input_ids, attention_mask, labels = [], [], []\n",
    "    conversation = example[\"conversations\"]\n",
    "    input_content = conversation[0][\"value\"]  # 该条记录的问\n",
    "    output_content = conversation[1][\"value\"] # 该条记录的问的图片的描述\n",
    "    \n",
    "    file_path = input_content.split(\"<|vision_start|>\")[1].split(\"<|vision_end|>\")[0]\n",
    "    messages = [\n",
    "        {\n",
    "            \"role\": \"user\",\n",
    "            \"content\": [\n",
    "                {\n",
    "                    \"type\": \"image\",\n",
    "                    \"image\": f\"{file_path}\",\n",
    "                    \"resized_height\": 280,\n",
    "                    \"resized_width\": 280,\n",
    "                },\n",
    "                {\"type\": \"text\", \"text\": \"COCO Yes:\"},\n",
    "            ],\n",
    "        }\n",
    "    ]\n",
    "    text = tokenizer.apply_chat_template(messages, tokenize=False, add_generation_prompt=True)\n",
    "    image_inputs, video_inputs = process_vision_info(messages)\n",
    "    inputs = processor(\n",
    "        text=[text],\n",
    "        images=image_inputs,\n",
    "        videos=video_inputs,\n",
    "        padding=True,\n",
    "        return_tensors=\"pt\",\n",
    "    )\n",
    "    inputs = {key: value.tolist() for key, value in inputs.items()}\n",
    "    instruction = inputs\n",
    "\n",
    "    response = tokenizer(f\"{output_content}\", add_special_tokens=False)\n",
    "\n",
    "    input_ids = instruction[\"input_ids\"][0] + response[\"input_ids\"] \n",
    "    attention_mask = instruction[\"attention_mask\"][0] + response[\"attention_mask\"] \n",
    "    labels = [-100] * len(instruction[\"input_ids\"][0]) + response[\"input_ids\"] \n",
    "\n",
    "    if len(input_ids) > MAX_LENGTH:\n",
    "        input_ids = input_ids[:MAX_LENGTH]\n",
    "        attention_mask = attention_mask[:MAX_LENGTH]\n",
    "        labels = labels[:MAX_LENGTH]\n",
    "    else :\n",
    "        paddding_length = MAX_LENGTH-len(input_ids)\n",
    "        input_ids = paddding_length *[tokenizer.pad_token_id] + input_ids[:MAX_LENGTH]\n",
    "        attention_mask = attention_mask[:MAX_LENGTH]\n",
    "        labels = labels[:MAX_LENGTH]\n",
    "    input_ids = torch.tensor(input_ids)\n",
    "    attention_mask = torch.tensor(attention_mask)\n",
    "    labels = torch.tensor(labels)\n",
    "    #### 多模态模型多接受的参数\n",
    "    inputs['pixel_values'] = torch.tensor(inputs['pixel_values'])\n",
    "    inputs['image_grid_thw'] = torch.tensor(inputs['image_grid_thw']).squeeze(0)\n",
    "\n",
    "    return {\n",
    "        \"input_ids\": input_ids,\n",
    "        \"attention_mask\": attention_mask,\n",
    "        \"labels\": labels,\n",
    "        \"pixel_values\": inputs['pixel_values'],\n",
    "        \"image_grid_thw\": inputs['image_grid_thw']\n",
    "    }\n",
    "\n",
    "def predict(messages, model):\n",
    "    text = processor.apply_chat_template(messages, tokenize=False, add_generation_prompt=True)\n",
    "    image_inputs, video_inputs = process_vision_info(messages)\n",
    "    inputs = processor(\n",
    "        text=[text],\n",
    "        images=image_inputs,\n",
    "        videos=video_inputs,\n",
    "        padding=True,\n",
    "        return_tensors=\"pt\",\n",
    "    )\n",
    "    inputs = inputs.to(\"cuda\")\n",
    "\n",
    "    generated_ids = model.generate(**inputs, max_new_tokens=128)\n",
    "    generated_ids_trimmed = [out_ids[len(in_ids):] for in_ids, out_ids in zip(inputs.input_ids, generated_ids)]\n",
    "    output_text = processor.batch_decode(\n",
    "        generated_ids_trimmed, skip_special_tokens=True, clean_up_tokenization_spaces=False\n",
    "    )\n",
    "    return output_text[0]\n",
    "\n",
    "# 下载模型\n",
    "# model_dir = snapshot_download(\"Qwen/Qwen2-VL-2B-Instruct\", cache_dir=\"./\", revision=\"master\")\n",
    "\n",
    "# 加载模型\n",
    "tokenizer = AutoTokenizer.from_pretrained(\"./Qwen/Qwen2-VL-2B-Instruct/\", use_fast=False, trust_remote_code=True)\n",
    "\n",
    "model = Qwen2VLForConditionalGeneration.from_pretrained(\n",
    "    \"./Qwen/Qwen2-VL-2B-Instruct/\",\n",
    "    device_map=\"auto\",\n",
    "    torch_dtype=torch.bfloat16,\n",
    "    trust_remote_code=True,\n",
    ")\n",
    "model.enable_input_require_grads()\n",
    "\n",
    "# 准备数据集\n",
    "train_json_path = \"data_vl.json\"\n",
    "with open(train_json_path, 'r') as f:\n",
    "    data = json.load(f)\n",
    "    train_data = data[:-4]\n",
    "    test_data = data[-4:]\n",
    "\n",
    "with open(\"data_vl_train.json\", \"w\") as f:\n",
    "    json.dump(train_data, f)\n",
    "\n",
    "with open(\"data_vl_test.json\", \"w\") as f:\n",
    "    json.dump(test_data, f)"
   ]
  },
  {
   "cell_type": "code",
   "execution_count": 7,
   "id": "1bb318d2-b63b-4ec1-ae60-a50c49c59b04",
   "metadata": {},
   "outputs": [
    {
     "data": {
      "application/vnd.jupyter.widget-view+json": {
       "model_id": "28dbd546bac54a38a8e902bab669b8be",
       "version_major": 2,
       "version_minor": 0
      },
      "text/plain": [
       "Generating train split: 0 examples [00:00, ? examples/s]"
      ]
     },
     "metadata": {},
     "output_type": "display_data"
    },
    {
     "name": "stdout",
     "output_type": "stream",
     "text": [
      "== [{'from': 'user', 'value': 'COCO Yes: <|vision_start|>/root/autodl-tmp/coco_2014_caption/199134.jpg<|vision_end|>'}, {'from': 'assistant', 'value': 'a couple of men standing in front of a fan on a stage.'}]\n",
      "== identity_1\n"
     ]
    }
   ],
   "source": [
    "train_ds = Dataset.from_json(\"data_vl_train.json\")\n",
    "print(\"==\",train_ds['conversations'][0])\n",
    "\n",
    "print(\"==\",train_ds['id'][0])"
   ]
  },
  {
   "cell_type": "code",
   "execution_count": 8,
   "id": "7caa85a8-6fc2-4a04-9397-78869b4532e3",
   "metadata": {},
   "outputs": [
    {
     "data": {
      "text/plain": [
       "('COCO Yes: <|vision_start|>/root/autodl-tmp/coco_2014_caption/199134.jpg<|vision_end|>',\n",
       " 'a couple of men standing in front of a fan on a stage.')"
      ]
     },
     "execution_count": 8,
     "metadata": {},
     "output_type": "execute_result"
    }
   ],
   "source": [
    "train_ds['conversations'][0][0][\"value\"],train_ds['conversations'][0][1][\"value\"]"
   ]
  },
  {
   "cell_type": "code",
   "execution_count": 17,
   "id": "5c1ce669-9c59-48c8-9cb8-4628caf0935e",
   "metadata": {},
   "outputs": [
    {
     "data": {
      "text/plain": [
       "{'input_ids': tensor([[151644,   8948,    198,   2610,    525,    264,  10950,  17847,     13,\n",
       "         151645,    198, 151644,    872,    198, 151652, 151655, 151655, 151655,\n",
       "         151655, 151655, 151655, 151655, 151655, 151655, 151655, 151655, 151655,\n",
       "         151655, 151655, 151655, 151655, 151655, 151655, 151655, 151655, 151655,\n",
       "         151655, 151655, 151655, 151655, 151655, 151655, 151655, 151655, 151655,\n",
       "         151655, 151655, 151655, 151655, 151655, 151655, 151655, 151655, 151655,\n",
       "         151655, 151655, 151655, 151655, 151655, 151655, 151655, 151655, 151655,\n",
       "         151655, 151655, 151655, 151655, 151655, 151655, 151655, 151655, 151655,\n",
       "         151655, 151655, 151655, 151655, 151655, 151655, 151655, 151655, 151655,\n",
       "         151655, 151655, 151655, 151655, 151655, 151655, 151655, 151655, 151655,\n",
       "         151655, 151655, 151655, 151655, 151655, 151655, 151655, 151655, 151655,\n",
       "         151655, 151655, 151655, 151655, 151655, 151655, 151655, 151655, 151655,\n",
       "         151655, 151655, 151655, 151655, 151655, 151655, 151655, 151653,     34,\n",
       "           7612,     46,   7414,     25, 151645,    198, 151644,  77091,    198]]), 'attention_mask': tensor([[1, 1, 1, 1, 1, 1, 1, 1, 1, 1, 1, 1, 1, 1, 1, 1, 1, 1, 1, 1, 1, 1, 1, 1,\n",
       "         1, 1, 1, 1, 1, 1, 1, 1, 1, 1, 1, 1, 1, 1, 1, 1, 1, 1, 1, 1, 1, 1, 1, 1,\n",
       "         1, 1, 1, 1, 1, 1, 1, 1, 1, 1, 1, 1, 1, 1, 1, 1, 1, 1, 1, 1, 1, 1, 1, 1,\n",
       "         1, 1, 1, 1, 1, 1, 1, 1, 1, 1, 1, 1, 1, 1, 1, 1, 1, 1, 1, 1, 1, 1, 1, 1,\n",
       "         1, 1, 1, 1, 1, 1, 1, 1, 1, 1, 1, 1, 1, 1, 1, 1, 1, 1, 1, 1, 1, 1, 1, 1,\n",
       "         1, 1, 1, 1, 1, 1]]), 'pixel_values': tensor([[-0.6244, -0.6390, -0.6536,  ..., -1.1532, -1.1674, -1.1816],\n",
       "        [-0.7996, -0.4200,  0.2369,  ..., -0.0156,  0.1266,  0.0982],\n",
       "        [-0.7120, -0.7412, -0.7266,  ..., -0.5275, -0.4706, -0.4706],\n",
       "        ...,\n",
       "        [-0.1280, -0.0842, -0.0696,  ...,  0.0555,  0.1835,  0.2262],\n",
       "        [-0.0842, -0.0696, -0.1280,  ...,  0.1835,  0.1266,  0.0271],\n",
       "        [-0.1572, -0.1864, -0.1572,  ...,  0.1409,  0.0271,  0.0982]]), 'image_grid_thw': tensor([[ 1, 20, 20]])}"
      ]
     },
     "execution_count": 17,
     "metadata": {},
     "output_type": "execute_result"
    }
   ],
   "source": [
    "file_path = \"./coco_2014_caption/191327.jpg\"\n",
    "messages = [\n",
    "        {\n",
    "            \"role\": \"user\",\n",
    "            \"content\": [\n",
    "                {\n",
    "                    \"type\": \"image\",\n",
    "                    \"image\": f\"{file_path}\",\n",
    "                    \"resized_height\": 280,\n",
    "                    \"resized_width\": 280,\n",
    "                },\n",
    "                {\"type\": \"text\", \"text\": \"COCO Yes:\"},\n",
    "            ],\n",
    "        }\n",
    "    ]\n",
    "text = tokenizer.apply_chat_template(messages, tokenize=False, add_generation_prompt=True)\n",
    "image_inputs, video_inputs = process_vision_info(messages)\n",
    "inputs = processor(\n",
    "        text=[text],\n",
    "        images=image_inputs,\n",
    "        videos=video_inputs,\n",
    "        padding=True,\n",
    "        return_tensors=\"pt\",\n",
    "    )\n",
    "inputs"
   ]
  },
  {
   "cell_type": "code",
   "execution_count": null,
   "id": "4ad5497b-0282-44a5-be46-c261ecc14ec3",
   "metadata": {},
   "outputs": [],
   "source": [
    "image_inputs, video_inputs = process_vision_info(messages)\n"
   ]
  },
  {
   "cell_type": "code",
   "execution_count": null,
   "id": "dcf129c2-054d-4427-b726-cba85f0c858f",
   "metadata": {},
   "outputs": [],
   "source": [
    "tokenizer.pad_token_id"
   ]
  },
  {
   "cell_type": "code",
   "execution_count": null,
   "id": "e43b33a2-e3fb-4537-9d63-7be1e394402c",
   "metadata": {},
   "outputs": [
    {
     "data": {
      "application/vnd.jupyter.widget-view+json": {
       "model_id": "ceaf72aa8d804476aaf66681489a0788",
       "version_major": 2,
       "version_minor": 0
      },
      "text/plain": [
       "Map:   0%|          | 0/496 [00:00<?, ? examples/s]"
      ]
     },
     "metadata": {},
     "output_type": "display_data"
    }
   ],
   "source": [
    "train_dataset = train_ds.map(process_func)"
   ]
  },
  {
   "cell_type": "code",
   "execution_count": null,
   "id": "66dbd1eb-4596-44f9-9cdd-9f104592bfcd",
   "metadata": {},
   "outputs": [],
   "source": [
    "\n",
    "# 配置LoRA\n",
    "config = LoraConfig(\n",
    "    task_type=TaskType.CAUSAL_LM,\n",
    "    target_modules=[\"q_proj\", \"k_proj\", \"v_proj\", \"o_proj\", \"gate_proj\", \"up_proj\", \"down_proj\"],\n",
    "    inference_mode=False,\n",
    "    r=64,\n",
    "    lora_alpha=16,\n",
    "    lora_dropout=0.05,\n",
    "    bias=\"none\",\n",
    ")\n",
    "\n",
    "peft_model = get_peft_model(model, config)\n",
    "\n",
    "# 训练配置\n",
    "args = TrainingArguments(\n",
    "    output_dir=\"./output/Qwen2-VL-2B\",\n",
    "    per_device_train_batch_size=4,\n",
    "    gradient_accumulation_steps=4,\n",
    "    logging_steps=10,\n",
    "    logging_first_step=5,\n",
    "    num_train_epochs=2,\n",
    "    save_steps=100,\n",
    "    learning_rate=1e-4,\n",
    "    save_on_each_node=True,\n",
    "    gradient_checkpointing=True,\n",
    "    report_to=\"none\",\n",
    ")\n",
    "\n",
    "trainer = Trainer(\n",
    "    model=peft_model,\n",
    "    args=args,\n",
    "    train_dataset=train_dataset,\n",
    "    # data_collator=DataCollatorForSeq2Seq(tokenizer=tokenizer, padding=True),\n",
    ")\n",
    "\n",
    "trainer.train()\n",
    "\n",
    "# 测试模式\n",
    "val_config = LoraConfig(\n",
    "    task_type=TaskType.CAUSAL_LM,\n",
    "    target_modules=[\"q_proj\", \"k_proj\", \"v_proj\", \"o_proj\", \"gate_proj\", \"up_proj\", \"down_proj\"],\n",
    "    inference_mode=True,\n",
    "    r=64,\n",
    "    lora_alpha=16,\n",
    "    lora_dropout=0.05,\n",
    "    bias=\"none\",\n",
    ")\n",
    "\n",
    "val_peft_model = PeftModel.from_pretrained(model, model_id=\"./output/Qwen2-VL-2B/checkpoint-62\", config=val_config)\n",
    "\n",
    "with open(\"data_vl_test.json\", \"r\") as f:\n",
    "    test_dataset = json.load(f)\n",
    "\n",
    "for item in test_dataset:\n",
    "    input_image_prompt = item[\"conversations\"][0][\"value\"]\n",
    "    origin_image_path = input_image_prompt.split(\"<|vision_start|>\")[1].split(\"<|vision_end|>\")[0]\n",
    "    messages = [{\n",
    "        \"role\": \"user\",\n",
    "        \"content\": [\n",
    "            {\"type\": \"image\", \"image\": origin_image_path},\n",
    "            {\"type\": \"text\", \"text\": \"COCO Yes:\"}\n",
    "        ]\n",
    "    }]\n",
    "    response = predict(messages, val_peft_model)\n",
    "    messages.append({\"role\": \"assistant\", \"content\": f\"{response}\"})\n",
    "    print(messages[-1])"
   ]
  },
  {
   "cell_type": "code",
   "execution_count": null,
   "id": "bb558cb1-7208-40b1-9f61-0117f19f5a68",
   "metadata": {},
   "outputs": [],
   "source": [
    "# 测试微调后的模型"
   ]
  },
  {
   "cell_type": "code",
   "execution_count": null,
   "id": "c4a475ae-fb27-49a1-af9c-e5e5acf52577",
   "metadata": {},
   "outputs": [],
   "source": [
    "from transformers import Qwen2VLForConditionalGeneration, AutoProcessor\n",
    "from qwen_vl_utils import process_vision_info\n",
    "from peft import PeftModel, LoraConfig, TaskType\n",
    "\n",
    "config = LoraConfig(\n",
    "    task_type=TaskType.CAUSAL_LM,\n",
    "    target_modules=[\"q_proj\", \"k_proj\", \"v_proj\", \"o_proj\", \"gate_proj\", \"up_proj\", \"down_proj\"],\n",
    "    inference_mode=True,\n",
    "    r=64,  # Lora 秩\n",
    "    lora_alpha=16,  # Lora alaph，具体作用参见 Lora 原理\n",
    "    lora_dropout=0.05,  # Dropout 比例\n",
    "    bias=\"none\",\n",
    ")\n",
    "\n",
    "# default: Load the model on the available device(s)\n",
    "model = Qwen2VLForConditionalGeneration.from_pretrained(\n",
    "    \"./Qwen/Qwen2-VL-2B-Instruct\", torch_dtype=\"auto\", device_map=\"auto\"\n",
    ")\n",
    "model = PeftModel.from_pretrained(model, model_id=\"./output/Qwen2-VL-2B/checkpoint-62\", config=config)\n",
    "processor = AutoProcessor.from_pretrained(\"./Qwen/Qwen2-VL-2B-Instruct\")\n",
    "\n",
    "messages = [\n",
    "    {\n",
    "        \"role\": \"user\",\n",
    "        \"content\": [\n",
    "            {\n",
    "                \"type\": \"image\",\n",
    "                \"image\": \"./coco_2014_caption/191327.jpg\",\n",
    "            },\n",
    "            {\"type\": \"text\", \"text\": \"COCO Yes:\"},\n",
    "        ],\n",
    "    }\n",
    "]\n",
    "\n",
    "# Preparation for inference\n",
    "text = processor.apply_chat_template(\n",
    "    messages, tokenize=False, add_generation_prompt=True\n",
    ")\n",
    "image_inputs, video_inputs = process_vision_info(messages)\n",
    "inputs = processor(\n",
    "    text=[text],\n",
    "    images=image_inputs,\n",
    "    videos=video_inputs,\n",
    "    padding=True,\n",
    "    return_tensors=\"pt\",\n",
    ")\n",
    "inputs = inputs.to(\"cuda\")\n",
    "\n",
    "# Inference: Generation of the output\n",
    "generated_ids = model.generate(**inputs, max_new_tokens=128)\n",
    "generated_ids_trimmed = [\n",
    "    out_ids[len(in_ids) :] for in_ids, out_ids in zip(inputs.input_ids, generated_ids)\n",
    "]\n",
    "output_text = processor.batch_decode(\n",
    "    generated_ids_trimmed, skip_special_tokens=True, clean_up_tokenization_spaces=False\n",
    ")\n",
    "print(output_text)"
   ]
  },
  {
   "cell_type": "code",
   "execution_count": null,
   "id": "e9219e85-b96e-49b9-ab40-b2c82791be8a",
   "metadata": {},
   "outputs": [],
   "source": []
  },
  {
   "cell_type": "code",
   "execution_count": null,
   "id": "0cf68dda-fc13-45dc-b2ab-e4075275af6e",
   "metadata": {},
   "outputs": [],
   "source": []
  },
  {
   "cell_type": "code",
   "execution_count": null,
   "id": "5eca9997-02b5-48cb-9dae-be09803952c7",
   "metadata": {},
   "outputs": [],
   "source": []
  }
 ],
 "metadata": {
  "kernelspec": {
   "display_name": "Python 3 (ipykernel)",
   "language": "python",
   "name": "python3"
  },
  "language_info": {
   "codemirror_mode": {
    "name": "ipython",
    "version": 3
   },
   "file_extension": ".py",
   "mimetype": "text/x-python",
   "name": "python",
   "nbconvert_exporter": "python",
   "pygments_lexer": "ipython3",
   "version": "3.10.8"
  }
 },
 "nbformat": 4,
 "nbformat_minor": 5
}
